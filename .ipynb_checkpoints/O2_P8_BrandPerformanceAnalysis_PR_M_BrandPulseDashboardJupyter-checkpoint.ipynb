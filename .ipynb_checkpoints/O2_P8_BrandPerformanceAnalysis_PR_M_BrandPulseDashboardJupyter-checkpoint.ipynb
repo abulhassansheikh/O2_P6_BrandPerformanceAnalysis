{
 "cells": [
  {
   "cell_type": "code",
   "execution_count": 174,
   "metadata": {
    "kernel": "SoS"
   },
   "outputs": [
    {
     "data": {
      "text/html": [
       "<script>\n",
       "code_show=true; \n",
       "function code_toggle() {\n",
       " if (code_show){\n",
       " $('div.input').hide();\n",
       " } else {\n",
       " $('div.input').show();\n",
       " }\n",
       " code_show = !code_show\n",
       "} \n",
       "$( document ).ready(code_toggle);\n",
       "</script>\n",
       "<form action=\"javascript:code_toggle()\"><input type=\"submit\" value=\"Hide Code\"></form>"
      ],
      "text/plain": [
       "<IPython.core.display.HTML object>"
      ]
     },
     "execution_count": 174,
     "metadata": {},
     "output_type": "execute_result"
    }
   ],
   "source": [
    "from IPython.display import HTML\n",
    "\n",
    "HTML('''<script>\n",
    "code_show=true; \n",
    "function code_toggle() {\n",
    " if (code_show){\n",
    " $('div.input').hide();\n",
    " } else {\n",
    " $('div.input').show();\n",
    " }\n",
    " code_show = !code_show\n",
    "} \n",
    "$( document ).ready(code_toggle);\n",
    "</script>\n",
    "<form action=\"javascript:code_toggle()\"><input type=\"submit\" value=\"Hide Code\"></form>''')"
   ]
  },
  {
   "cell_type": "code",
   "execution_count": 175,
   "metadata": {
    "extensions": {
     "jupyter_dashboards": {
      "version": 1,
      "views": {
       "grid_default": {},
       "report_default": {}
      }
     }
    },
    "kernel": "SoS"
   },
   "outputs": [],
   "source": [
    "###Brand Pulse Dashboard\n",
    "#Import Necessary Packages\n",
    "import pandas as pd\n",
    "import matplotlib.pyplot as plt\n",
    "from ipywidgets import HTML\n",
    "from ipywidgets import interact, interactive, fixed, interact_manual\n",
    "import ipywidgets as widgets\n",
    "import numpy as np\n",
    "from sklearn.linear_model import LinearRegression"
   ]
  },
  {
   "cell_type": "code",
   "execution_count": 176,
   "metadata": {
    "extensions": {
     "jupyter_dashboards": {
      "version": 1,
      "views": {
       "grid_default": {},
       "report_default": {}
      }
     }
    },
    "kernel": "SoS"
   },
   "outputs": [],
   "source": [
    "#Loading Data\n",
    "PastYearData =pd.read_csv(\"//192.168.2.32/Group/Data Team/Brand_Update_Location/11_Brand_Performance_Analysis/PastYearDataNew.csv\", encoding='utf-8')\t\n",
    "CurrentYearData =pd.read_csv(\"//192.168.2.32/Group/Data Team/Brand_Update_Location/11_Brand_Performance_Analysis/CurrentYearDataNew.csv\", encoding='utf-8')\t\n",
    "\n",
    "#Combine Past and recent years sales data\n",
    "SD = pd.concat([PastYearData, CurrentYearData], ignore_index=True)\n"
   ]
  },
  {
   "cell_type": "code",
   "execution_count": 177,
   "metadata": {
    "extensions": {
     "jupyter_dashboards": {
      "version": 1,
      "views": {
       "grid_default": {},
       "report_default": {}
      }
     }
    },
    "kernel": "SoS"
   },
   "outputs": [],
   "source": [
    "#Convert Order_Date string to date and extract relevant date values\n",
    "SD['Order_Date'] = pd.to_datetime(SD['Order_Date'], format= \"%d-%b-%y\")\n",
    "SD['OD_Year'] = SD['Order_Date'].dt.strftime('%Y')\n",
    "SD['OD_MonthNum'] = SD['Order_Date'].dt.strftime('%m')\n",
    "SD['OD_MonthLab'] = SD['Order_Date'].dt.strftime('%B')\n",
    "SD['OD_MonthDay'] = SD['Order_Date'].dt.strftime('%d')\n",
    "SD['OD_WeekDay'] = SD['Order_Date'].dt.strftime('%A')\n"
   ]
  },
  {
   "cell_type": "code",
   "execution_count": 178,
   "metadata": {
    "extensions": {
     "jupyter_dashboards": {
      "version": 1,
      "views": {
       "grid_default": {},
       "report_default": {}
      }
     }
    },
    "kernel": "SoS"
   },
   "outputs": [],
   "source": [
    "#Filter out any blank orderdate values\n",
    "FilterSD =    SD[(SD['Order_Date']!=\"\")\n",
    "           #& (SD['Supplier']==\"\")\n",
    "           ]\n",
    "\n",
    "#Setup Interactive Global Filter\n",
    "###Reconciliation_Status <-Set up check box filter\n",
    "###Cost_Recording_Status <-Set up check box filter\n",
    "###Order_Bucket>\"Complete Bucket\" <-Set up check box filter\n",
    "###Order_Bucket>\"Pending Bucket\" <-Set up check box filter"
   ]
  },
  {
   "cell_type": "code",
   "execution_count": 179,
   "metadata": {
    "extensions": {
     "jupyter_dashboards": {
      "version": 1,
      "views": {
       "grid_default": {},
       "report_default": {}
      }
     }
    },
    "kernel": "SoS"
   },
   "outputs": [],
   "source": [
    "#Group by Attribute set & year sold, then count number of sales\n",
    "GroupedSD = (FilterSD.groupby([\"attribute_set\",\"OD_Year\"], as_index=False)\n",
    "                ['Order_Date'].\n",
    "                agg({\"count\":\"count\"}).sort_values([\"attribute_set\",\"OD_Year\"] , ascending = True))\n",
    "\n",
    "\n",
    "#Identify all unique brands\n",
    "AllBrands = GroupedSD.attribute_set.unique()"
   ]
  },
  {
   "cell_type": "code",
   "execution_count": 180,
   "metadata": {
    "extensions": {
     "jupyter_dashboards": {
      "version": 1,
      "views": {
       "grid_default": {},
       "report_default": {}
      }
     }
    },
    "kernel": "SoS"
   },
   "outputs": [],
   "source": [
    "#Compiled Output functions\n",
    "#Plot Brands sales per year \n",
    "def BrandPlotter(SB):\n",
    "    BrandFilterSD = GroupedSD[(GroupedSD['attribute_set']==SB)]\n",
    "    Year = np.array(BrandFilterSD[\"OD_Year\"]).reshape((-1, 1))\n",
    "    Sales = np.array(BrandFilterSD[\"count\"])    \n",
    "    \n",
    "    MarginData = (FilterSD[(FilterSD['attribute_set']==SB)]\n",
    "                 .groupby([\"attribute_set\",\"OD_Year\"], as_index=False)\n",
    "                 .agg({\"Net_Retail_Price_CAD_\":[\"sum\"], \n",
    "                       \"Total_Cost_CAD_\":[\"sum\"]\n",
    "                      }))\n",
    "    MarginData.columns = [\"\".join(x) for x in MarginData.columns.ravel()]\n",
    "    \n",
    "    MarginData = MarginData.assign(TotalMargin = lambda x: \n",
    "                 MarginData[\"Net_Retail_Price_CAD_sum\"] - MarginData[\"Total_Cost_CAD_sum\"])\n",
    "\n",
    "    MarginData = MarginData.assign(PercentMargin = lambda x: \n",
    "                 (MarginData[\"TotalMargin\"] / MarginData[\"Net_Retail_Price_CAD_sum\"])*100)\n",
    "\n",
    "    fig = plt.figure()\n",
    "    ax1 = fig.add_axes([0.1, 0.5, 1, 1.5],\n",
    "                   xticklabels=[], ylim=(Sales.min(), Sales.max()))\n",
    "    ax2 = fig.add_axes([0.1, 0.1, 1, .6],\n",
    "                   ylim=(MarginData[\"PercentMargin\"].min(), MarginData[\"PercentMargin\"].max()))\n",
    "\n",
    "    ax1.plot(BrandFilterSD[\"OD_Year\"],BrandFilterSD[\"count\"])\n",
    "    ax2.plot(MarginData[\"OD_Year\"],MarginData[\"PercentMargin\"])\n",
    "    plt.show()\n",
    "\n",
    "    LinearModel = LinearRegression().fit(Year,Sales)\n",
    "    Slope = LinearModel.coef_\n",
    "    RSqr= LinearModel.score(Year,Sales)\n",
    "    \n",
    "    if Slope > 0: \n",
    "        SlopeDirection = \"Positive\"\n",
    "    else: \n",
    "        SlopeDirection = \"Negative\"\n",
    "    \n",
    "    print(\"The Slope of \"+ SB+ \" is \"+SlopeDirection)\n",
    "\n",
    "    \n",
    "#TroubleShoot\n",
    "if False:\n",
    "    SB = \"B&B Exhaust\"\n",
    "    BrandFilterSD = GroupedSD[(GroupedSD['attribute_set']==SB)]\n",
    "    Year  = np.array(BrandFilterSD[\"OD_Year\"]).reshape((-1, 1))\n",
    "    Sales = np.array(BrandFilterSD[\"count\"])    \n",
    "    \n",
    "#Need to make exception that if little data, error produced or just the tabular data outputed\n",
    "    MarginData = (FilterSD[(FilterSD['attribute_set']==SB)]\n",
    "                 .groupby([\"attribute_set\",\"OD_Year\"], as_index=False)\n",
    "                 .agg({\"Net_Retail_Price_CAD_\":[\"sum\"], \n",
    "                       \"Total_Cost_CAD_\":[\"sum\"]\n",
    "                      }))\n",
    "    MarginData.columns = [\"\".join(x) for x in MarginData.columns.ravel()]\n",
    "    \n",
    "    MarginData = MarginData.assign(TotalMargin = lambda x: \n",
    "                 MarginData[\"Net_Retail_Price_CAD_sum\"] - MarginData[\"Total_Cost_CAD_sum\"])\n",
    "\n",
    "    MarginData = MarginData.assign(PercentMargin = lambda x: \n",
    "                 (MarginData[\"TotalMargin\"] / MarginData[\"Net_Retail_Price_CAD_sum\"])*100) \n",
    "    \n",
    "    plt.plot(BrandFilterSD[\"OD_Year\"],BrandFilterSD[\"count\"])\n",
    "    plt.plot(MarginData[\"OD_Year\"],MarginData[\"PercentMargin\"])\n",
    "    plt.show()\n",
    "\n",
    "    LinearModel = LinearRegression().fit(Year,Sales)\n",
    "    Slope = LinearModel.coef_\n",
    "    RSqr= LinearModel.score(Year,Sales)\n",
    "    \n",
    "    if Slope > 0: \n",
    "        SlopeDirection = \"Positive\"\n",
    "    else: \n",
    "        SlopeDirection = \"Negative\"\n",
    "    \n",
    "    print(\"The Slope of \"+ SB+ \" is \"+SlopeDirection)\n",
    "    \n",
    "    \n",
    "###Net_Retail_Price_CAD_\n",
    "###Total_Cost_CAD_\n",
    "    \n",
    "    #BrandPlotter(\"B&B Exhaust\")"
   ]
  },
  {
   "cell_type": "code",
   "execution_count": 181,
   "metadata": {
    "extensions": {
     "jupyter_dashboards": {
      "version": 1,
      "views": {
       "grid_default": {},
       "report_default": {}
      }
     }
    },
    "kernel": "SoS"
   },
   "outputs": [],
   "source": [
    "#Create Input Widgets\n",
    "SelectedBrand =  widgets.Dropdown(options=AllBrands,description='Brands:',disabled=False)\n"
   ]
  },
  {
   "cell_type": "code",
   "execution_count": 184,
   "metadata": {
    "extensions": {
     "jupyter_dashboards": {
      "version": 1,
      "views": {
       "grid_default": {},
       "report_default": {}
      }
     }
    },
    "kernel": "SoS"
   },
   "outputs": [],
   "source": [
    "%matplotlib inline\n",
    "#interact(BrandPlotter, SB = SelectedBrand)"
   ]
  }
 ],
 "metadata": {
  "extensions": {
   "jupyter_dashboards": {
    "activeView": "grid_default",
    "version": 1,
    "views": {
     "grid_default": {
      "cellMargin": 10,
      "defaultCellHeight": 20,
      "maxColumns": 12,
      "name": "grid",
      "type": "grid"
     },
     "report_default": {
      "name": "report",
      "type": "report"
     }
    }
   }
  },
  "kernelspec": {
   "display_name": "SoS",
   "language": "sos",
   "name": "sos"
  },
  "language_info": {
   "codemirror_mode": "sos",
   "file_extension": ".sos",
   "mimetype": "text/x-sos",
   "name": "sos",
   "nbconvert_exporter": "sos_notebook.converter.SoS_Exporter",
   "pygments_lexer": "sos"
  },
  "sos": {
   "kernels": [
    [
     "SoS",
     "sos",
     "",
     "",
     "sos"
    ]
   ],
   "panel": {
    "displayed": true,
    "height": 0
   },
   "version": "0.19.14"
  }
 },
 "nbformat": 4,
 "nbformat_minor": 2
}
