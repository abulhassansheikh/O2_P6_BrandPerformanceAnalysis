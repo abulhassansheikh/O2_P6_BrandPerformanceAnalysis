{
 "cells": [
  {
   "cell_type": "code",
   "execution_count": 8,
   "metadata": {
    "kernel": "SoS"
   },
   "outputs": [],
   "source": [
    "###Brand Pulse Dashboard\n",
    "#Import Necessary Packages\n",
    "import pandas as pd\n",
    "import matplotlib.pyplot as plt\n",
    "from ipywidgets import HTML\n",
    "from ipywidgets import interact, interactive, fixed, interact_manual\n",
    "import ipywidgets as widgets\n",
    "import numpy as np\n",
    "from sklearn.linear_model import LinearRegression"
   ]
  },
  {
   "cell_type": "code",
   "execution_count": 9,
   "metadata": {
    "kernel": "SoS"
   },
   "outputs": [
    {
     "name": "stderr",
     "output_type": "stream",
     "text": [
      "C:\\Users\\asheikh\\AppData\\Local\\Continuum\\anaconda3\\lib\\site-packages\\sos\\step_executor.py:992: DtypeWarning: Columns (2,16,17,34,35,36,40,41,44,49,50,51,52,58) have mixed types. Specify dtype option on import or set low_memory=False.\n",
      "  self.execute(statement[1])\n"
     ]
    }
   ],
   "source": [
    "#Loading Data\n",
    "PastYearData =pd.read_csv(\"//192.168.2.32/Group/Data Team/Brand_Update_Location/11_Brand_Performance_Analysis/PastYearDataNew.csv\", encoding='utf-8')\t\n",
    "CurrentYearData =pd.read_csv(\"//192.168.2.32/Group/Data Team/Brand_Update_Location/11_Brand_Performance_Analysis/CurrentYearDataNew.csv\", encoding='utf-8')\t\n",
    "\n",
    "#Combine Past and recent years sales data\n",
    "SD = pd.concat([PastYearData, CurrentYearData], ignore_index=True)\n"
   ]
  },
  {
   "cell_type": "code",
   "execution_count": 10,
   "metadata": {
    "kernel": "SoS"
   },
   "outputs": [],
   "source": [
    "#Convert Order_Date string to date and extract relevant date values\n",
    "SD['Order_Date'] = pd.to_datetime(SD['Order_Date'], format= \"%d-%b-%y\")\n",
    "SD['OD_Year'] = SD['Order_Date'].dt.strftime('%Y')\n",
    "SD['OD_MonthNum'] = SD['Order_Date'].dt.strftime('%m')\n",
    "SD['OD_MonthLab'] = SD['Order_Date'].dt.strftime('%B')\n",
    "SD['OD_MonthDay'] = SD['Order_Date'].dt.strftime('%d')\n",
    "SD['OD_WeekDay'] = SD['Order_Date'].dt.strftime('%A')\n"
   ]
  },
  {
   "cell_type": "code",
   "execution_count": 24,
   "metadata": {
    "kernel": "SoS"
   },
   "outputs": [],
   "source": [
    "#Filter out any blank orderdate values\n",
    "FilterSD =    SD[(SD['Order_Date']!=\"\")\n",
    "           & (SD['Supplier']==\"\")\n",
    "           ]\n",
    "\n",
    "#Setup Interactive Global Filter\n",
    "###Reconciliation_Status <-Set up check box filter\n",
    "###Cost_Recording_Status <-Set up check box filter\n",
    "###Order_Bucket>\"Complete Bucket\" <-Set up check box filter\n",
    "###Order_Bucket>\"Pending Bucket\" <-Set up check box filter"
   ]
  },
  {
   "cell_type": "code",
   "execution_count": 12,
   "metadata": {
    "kernel": "SoS"
   },
   "outputs": [],
   "source": [
    "#Group by Attribute set & year sold, then count number of sales\n",
    "GroupedSD = (FilterSD.groupby([\"attribute_set\",\"OD_Year\"], as_index=False)\n",
    "                ['Order_Date'].\n",
    "                agg({\"count\":\"count\"}).sort_values([\"attribute_set\",\"OD_Year\"] , ascending = True))\n",
    "\n",
    "\n",
    "#Identify all unique brands\n",
    "AllBrands = GroupedSD.attribute_set.unique()"
   ]
  },
  {
   "cell_type": "code",
   "execution_count": 19,
   "metadata": {
    "kernel": "SoS"
   },
   "outputs": [],
   "source": [
    "#Compiled Output functions\n",
    "#Plot Brands sales per year \n",
    "def BrandPlotter(SB):\n",
    "    BrandFilterSD = GroupedSD[(GroupedSD['attribute_set']==SB)]\n",
    "    Year = np.array(BrandFilterSD[\"OD_Year\"]).reshape((-1, 1))\n",
    "    Sales = np.array(BrandFilterSD[\"count\"])    \n",
    "    \n",
    "    plt.plot(BrandFilterSD[\"OD_Year\"],BrandFilterSD[\"count\"])\n",
    "    plt.show()\n",
    "\n",
    "    LinearModel = LinearRegression().fit(Year,Sales)\n",
    "    Slope = LinearModel.coef_\n",
    "    RSqr= LinearModel.score(Year,Sales)\n",
    "    \n",
    "    if Slope > 0: \n",
    "        SlopeDirection = \"Positive\"\n",
    "    else: \n",
    "        SlopeDirection = \"Negative\"\n",
    "    \n",
    "    print(\"The Slope of \"+ SB+ \" is \"+SlopeDirection)\n",
    "\n",
    "    \n",
    "#TroubleShoot\n",
    "if False:\n",
    "    SB = \"ACT\"\n",
    "    BrandFilterSD = GroupedSD[(GroupedSD['attribute_set']==SB)]\n",
    "    Year = np.array(BrandFilterSD[\"OD_Year\"]).reshape((-1, 1))\n",
    "    Sales = np.array(BrandFilterSD[\"count\"])    \n",
    "    \n",
    "    plt.plot(BrandFilterSD[\"OD_Year\"],BrandFilterSD[\"count\"])\n",
    "    plt.show()\n",
    "\n",
    "    LinearModel = LinearRegression().fit(Year,Sales)\n",
    "    Slope = LinearModel.coef_\n",
    "    RSqr= LinearModel.score(Year,Sales)\n",
    "    \n",
    "    if Slope > 0: \n",
    "        SlopeDirection = \"Positive\"\n",
    "    else: \n",
    "        SlopeDirection = \"Negative\"\n",
    "    \n",
    "    print(\"The Slope of \"+ SB+ \" is \"+SlopeDirection)\n",
    "    \n",
    "    \n",
    "###Net_Retail_Price_CAD_\n",
    "###Total_Cost_CAD_\n",
    "    \n",
    "    #BrandPlotter(\"ACT\")"
   ]
  },
  {
   "cell_type": "code",
   "execution_count": 14,
   "metadata": {
    "kernel": "SoS"
   },
   "outputs": [],
   "source": [
    "#Create Input Widgets\n",
    "SelectedBrand =  widgets.Dropdown(options=AllBrands,description='Brands:',disabled=False)\n"
   ]
  },
  {
   "cell_type": "code",
   "execution_count": 16,
   "metadata": {
    "kernel": "SoS"
   },
   "outputs": [
    {
     "data": {
      "application/vnd.jupyter.widget-view+json": {
       "model_id": "86a79898da8d4daca76fff717ae53ffb",
       "version_major": 2,
       "version_minor": 0
      },
      "text/plain": [
       "interactive(children=(Dropdown(description='Brands:', options=('ACT', 'AEM', 'AEM Electronics', 'AMI', 'AMP', …"
      ]
     },
     "metadata": {},
     "output_type": "display_data"
    },
    {
     "data": {
      "text/plain": [
       "<function BrandPlotter(SB)>"
      ]
     },
     "execution_count": 16,
     "metadata": {},
     "output_type": "execute_result"
    }
   ],
   "source": [
    "%matplotlib inline\n",
    "interact(BrandPlotter, SB = SelectedBrand)"
   ]
  },
  {
   "cell_type": "code",
   "execution_count": null,
   "metadata": {
    "kernel": "SoS"
   },
   "outputs": [],
   "source": []
  },
  {
   "cell_type": "code",
   "execution_count": null,
   "metadata": {
    "kernel": "SoS"
   },
   "outputs": [],
   "source": []
  },
  {
   "cell_type": "code",
   "execution_count": null,
   "metadata": {
    "kernel": "SoS"
   },
   "outputs": [],
   "source": []
  },
  {
   "cell_type": "code",
   "execution_count": null,
   "metadata": {
    "kernel": "SoS"
   },
   "outputs": [],
   "source": []
  }
 ],
 "metadata": {
  "kernelspec": {
   "display_name": "SoS",
   "language": "sos",
   "name": "sos"
  },
  "language_info": {
   "codemirror_mode": "sos",
   "file_extension": ".sos",
   "mimetype": "text/x-sos",
   "name": "sos",
   "nbconvert_exporter": "sos_notebook.converter.SoS_Exporter",
   "pygments_lexer": "sos"
  },
  "sos": {
   "kernels": [
    [
     "SoS",
     "sos",
     "",
     "",
     "sos"
    ]
   ],
   "panel": {
    "displayed": true,
    "height": 0
   },
   "version": "0.19.14"
  }
 },
 "nbformat": 4,
 "nbformat_minor": 2
}
