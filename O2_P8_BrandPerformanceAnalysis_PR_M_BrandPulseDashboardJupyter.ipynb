{
 "cells": [
  {
   "cell_type": "code",
   "execution_count": 1,
   "metadata": {
    "kernel": "SoS"
   },
   "outputs": [
    {
     "data": {
      "text/html": [
       "<script>\n",
       "code_show=true; \n",
       "function code_toggle() {\n",
       " if (code_show){\n",
       " $('div.input').hide();\n",
       " } else {\n",
       " $('div.input').show();\n",
       " }\n",
       " code_show = !code_show\n",
       "} \n",
       "$( document ).ready(code_toggle);\n",
       "</script>\n",
       "<form action=\"javascript:code_toggle()\"><input type=\"submit\" value=\"Hide Code\"></form>"
      ],
      "text/plain": [
       "<IPython.core.display.HTML object>"
      ]
     },
     "execution_count": 1,
     "metadata": {},
     "output_type": "execute_result"
    }
   ],
   "source": [
    "from IPython.display import HTML\n",
    "\n",
    "HTML('''<script>\n",
    "code_show=true; \n",
    "function code_toggle() {\n",
    " if (code_show){\n",
    " $('div.input').hide();\n",
    " } else {\n",
    " $('div.input').show();\n",
    " }\n",
    " code_show = !code_show\n",
    "} \n",
    "$( document ).ready(code_toggle);\n",
    "</script>\n",
    "<form action=\"javascript:code_toggle()\"><input type=\"submit\" value=\"Hide Code\"></form>''')"
   ]
  },
  {
   "cell_type": "code",
   "execution_count": 2,
   "metadata": {
    "extensions": {
     "jupyter_dashboards": {
      "version": 1,
      "views": {
       "grid_default": {},
       "report_default": {}
      }
     }
    },
    "kernel": "SoS"
   },
   "outputs": [],
   "source": [
    "###Brand Pulse Dashboard\n",
    "#Import Necessary Packages\n",
    "import pandas as pd\n",
    "import matplotlib.pyplot as plt\n",
    "from ipywidgets import HTML\n",
    "from ipywidgets import interact, interactive, fixed, interact_manual\n",
    "import ipywidgets as widgets\n",
    "import numpy as np\n",
    "from sklearn.linear_model import LinearRegression"
   ]
  },
  {
   "cell_type": "code",
   "execution_count": 3,
   "metadata": {
    "extensions": {
     "jupyter_dashboards": {
      "version": 1,
      "views": {
       "grid_default": {},
       "report_default": {}
      }
     }
    },
    "kernel": "SoS"
   },
   "outputs": [
    {
     "name": "stderr",
     "output_type": "stream",
     "text": [
      "C:\\Users\\asheikh\\AppData\\Local\\Continuum\\anaconda3\\lib\\site-packages\\sos\\step_executor.py:992: DtypeWarning: Columns (2,16,17,34,35,36,40,41,44,49,50,51,52,58) have mixed types. Specify dtype option on import or set low_memory=False.\n",
      "  self.execute(statement[1])\n"
     ]
    }
   ],
   "source": [
    "#Loading Data\n",
    "PastYearData =pd.read_csv(\"//192.168.2.32/Group/Data Team/Brand_Update_Location/11_Brand_Performance_Analysis/PastYearDataNew.csv\", encoding='utf-8')\t\n",
    "CurrentYearData =pd.read_csv(\"//192.168.2.32/Group/Data Team/Brand_Update_Location/11_Brand_Performance_Analysis/CurrentYearDataNew.csv\", encoding='utf-8')\t\n",
    "\n",
    "#Combine Past and recent years sales data\n",
    "SD = pd.concat([PastYearData, CurrentYearData], ignore_index=True)\n"
   ]
  },
  {
   "cell_type": "code",
   "execution_count": 4,
   "metadata": {
    "extensions": {
     "jupyter_dashboards": {
      "version": 1,
      "views": {
       "grid_default": {},
       "report_default": {}
      }
     }
    },
    "kernel": "SoS"
   },
   "outputs": [],
   "source": [
    "#Convert Order_Date string to date and extract relevant date values\n",
    "SD['Order_Date'] = pd.to_datetime(SD['Order_Date'], format= \"%d-%b-%y\")\n",
    "SD['OD_Year'] = SD['Order_Date'].dt.strftime('%Y')\n",
    "SD['OD_MonthNum'] = SD['Order_Date'].dt.strftime('%m')\n",
    "SD['OD_MonthLab'] = SD['Order_Date'].dt.strftime('%B')\n",
    "SD['OD_MonthDay'] = SD['Order_Date'].dt.strftime('%d')\n",
    "SD['OD_WeekDay'] = SD['Order_Date'].dt.strftime('%A')\n"
   ]
  },
  {
   "cell_type": "code",
   "execution_count": null,
   "metadata": {
    "kernel": "SoS"
   },
   "outputs": [],
   "source": [
    "#Extract meta data from SD\n",
    "##Identify all unique brands\n",
    "AllBrands = SD.attribute_set.unique()\n",
    "AllSuppliers = SD.Supplier.unique()\n",
    "AllBucketValues = SD.Order_Bucket.unique()\n",
    "\n",
    "list(SD.columns) "
   ]
  },
  {
   "cell_type": "code",
   "execution_count": 5,
   "metadata": {
    "extensions": {
     "jupyter_dashboards": {
      "version": 1,
      "views": {
       "grid_default": {},
       "report_default": {}
      }
     }
    },
    "kernel": "SoS"
   },
   "outputs": [],
   "source": [
    "#Filter out any blank orderdate values\n",
    "FilterSD =    SD[(SD['Order_Date']!=\"\")\n",
    "           #& (SD['Supplier']==\"\")\n",
    "           ]\n",
    "\n",
    "#Setup Interactive Global Filter\n",
    "###Reconciliation_Status <-Set up check box filter\n",
    "###Cost_Recording_Status <-Set up check box filter\n",
    "###Order_Bucket>\"Complete Bucket\" <-Set up check box filter\n",
    "###Order_Bucket>\"Pending Bucket\" <-Set up check box filter"
   ]
  },
  {
   "cell_type": "code",
   "execution_count": 6,
   "metadata": {
    "extensions": {
     "jupyter_dashboards": {
      "version": 1,
      "views": {
       "grid_default": {},
       "report_default": {}
      }
     }
    },
    "kernel": "SoS"
   },
   "outputs": [],
   "source": [
    "#Group by Attribute set & year sold, then count number of sales\n",
    "GroupedSD = (FilterSD.groupby([\"attribute_set\",\"OD_Year\"], as_index=False)\n",
    "                ['Order_Date'].\n",
    "                agg({\"count\":\"count\"}).sort_values([\"attribute_set\",\"OD_Year\"] , ascending = True))\n",
    "\n",
    "\n",
    "\n",
    "#Create the aggregateElement Class\n",
    "class AggE:\n",
    "  def __init__(self, ColName, fun, NewColName):\n",
    "    self.ColName = str(ColName)\n",
    "    self.fun = str(fun)\n",
    "    self.NewColName = str(NewColName)\n",
    "  def agger(self):\n",
    "    return (\"'\" +self.ColName+ \"':['\"+ self.fun + \"']\" )\n",
    "\n",
    "\n",
    "\n",
    "OrderDateCount = AggE(\"Order_Date\",\"count\",\"TotalSales\")\n",
    "NRetailPriceSum = AggE(\"Net_Retail_Price_CAD_\",\"sum\",\"Total_Retail_Price\")\n",
    "\n",
    "NRetailPriceSum.agger()\n",
    "\n",
    "\n",
    "\n",
    "\n",
    "aggregate = [OrderDateCount, NRetailPriceSum]\n",
    "\n",
    "for g in aggregate:\n",
    "    ColName = g.ColName\n",
    "    fun = g.fun\n",
    "    NewColName = g.NewColName\n",
    "    \n",
    "Order = (\"'\" +ColName+ \"':['\"+ fun + \"']\" )\n",
    "\n",
    "Order = (ColName fun:[] + \"']\" )\n",
    "\n",
    "\n",
    "\n",
    "def DataGrouper(df, group, aggregate):\n",
    "    Output = (df\n",
    "    .groupby(group, as_index=False)\n",
    "    .agg(aggregate))\n",
    "    \n",
    "    Output.columns = [\"_\".join(x) for x in Output.columns.ravel()]\n",
    "    \n",
    "    return Output\n",
    "\n",
    "DataGrouper(df = GlobalFilter, group = [\"OD_Year\"], aggregate = {Order)\n",
    "\n",
    "\n",
    "{\"A\":\"B\":\"C\"}"
   ]
  },
  {
   "cell_type": "code",
   "execution_count": 115,
   "metadata": {
    "extensions": {
     "jupyter_dashboards": {
      "version": 1,
      "views": {
       "grid_default": {},
       "report_default": {}
      }
     }
    },
    "kernel": "SoS"
   },
   "outputs": [
    {
     "name": "stderr",
     "output_type": "stream",
     "text": [
      "File contains parsing errors: \n",
      "\t[line  4]: def BrandPlotter(SB):\n",
      "\n",
      "    #Global Function Filter\n",
      "    GlobalFilter =    SD[(SD['Order_Date']!=\"\")\n",
      "                   & (SD['attribute_set']==SB)\n",
      "\n",
      "Invalid statements: SyntaxError('invalid syntax', ('<string>', 26, 17, \"    BrandFilterSD = GroupedSD[(GroupedSD['attribute_set']==SB)]\\n\"))\n"
     ]
    }
   ],
   "source": [
    "#Compiled Output functions\n",
    "#Plot Brands sales per year \n",
    "def BrandPlotter(SB):\n",
    "    \n",
    "    #Global Function Filter\n",
    "    GlobalFilter =    SD[(SD['Order_Date']!=\"\")\n",
    "                   & (SD['attribute_set']==SB)\n",
    "                   ]\n",
    "    \n",
    "    #Filtered Data Meta Data\n",
    "    RecentSale = GlobalFilter.Order_Date.max()\n",
    "    OldestSale = GlobalFilter.Order_Date.min()\n",
    "\n",
    "#Setup Interactive Global Filter\n",
    "###Reconciliation_Status <-Set up check box filter\n",
    "###Cost_Recording_Status <-Set up check box filter\n",
    "###Order_Bucket>\"Complete Bucket\" <-Set up check box filter\n",
    "###Order_Bucket>\"Pending Bucket\" <-Set up check box filter\n",
    "\n",
    "    #Data grouping\n",
    "    ##Group by Attribute set & year sold, then count number of sales\n",
    "    GroupedSD = (GlobalFilter\n",
    "                 .groupby([\"OD_Year\"], as_index=False)\n",
    "                ['Order_Date'].\n",
    "                agg({\"count\":\"count\"}).sort_values([\"OD_Year\"] , ascending = True))\n",
    "    \n",
    "    MarginData = (GlobalFilter\n",
    "                 .groupby([\"attribute_set\",\"OD_Year\"], as_index=False)\n",
    "                 .agg({\"Net_Retail_Price_CAD_\":[\"sum\"], \n",
    "                       \"Total_Cost_CAD_\":[\"sum\"]\n",
    "\n",
    "    \n",
    "    BrandFilterSD = GroupedSD[(GroupedSD['attribute_set']==SB)]\n",
    "    Year = np.array(BrandFilterSD[\"OD_Year\"]).reshape((-1, 1))\n",
    "    Sales = np.array(BrandFilterSD[\"count\"])    \n",
    "    \n",
    "\n",
    "                      }))\n",
    "    MarginData.columns = [\"\".join(x) for x in MarginData.columns.ravel()]\n",
    "    \n",
    "    MarginData = MarginData.assign(TotalMargin = lambda x: \n",
    "                 MarginData[\"Net_Retail_Price_CAD_sum\"] - MarginData[\"Total_Cost_CAD_sum\"])\n",
    "\n",
    "    MarginData = MarginData.assign(PercentMargin = lambda x: \n",
    "                 (MarginData[\"TotalMargin\"] / MarginData[\"Net_Retail_Price_CAD_sum\"])*100)\n",
    "\n",
    "    fig = plt.figure()\n",
    "    fig.subplots_adjust(hspace=1, wspace=0.4) #Plot Spacer\n",
    "    ax1 = fig.add_axes([0.1, 0.5, 1, 1.5],\n",
    "                   xticklabels=[], ylim=(Sales.min(), Sales.max()))\n",
    "    ax2 = fig.add_axes([0.1, 0.1, 1, .6],\n",
    "                   ylim=(MarginData[\"PercentMargin\"].min(), MarginData[\"PercentMargin\"].max()))\n",
    "\n",
    "    ax1.plot(BrandFilterSD[\"OD_Year\"],BrandFilterSD[\"count\"])\n",
    "    ax2.plot(MarginData[\"OD_Year\"],MarginData[\"PercentMargin\"])\n",
    "    plt.show()\n",
    "\n",
    "    LinearModel = LinearRegression().fit(Year,Sales)\n",
    "    Slope = LinearModel.coef_\n",
    "    RSqr= LinearModel.score(Year,Sales)\n",
    "    \n",
    "    if Slope > 0: \n",
    "        SlopeDirection = \"Positive\"\n",
    "    else: \n",
    "        SlopeDirection = \"Negative\"\n",
    "    \n",
    "    print(\"The Slope of \"+ SB+ \" is \"+SlopeDirection)\n",
    "\n",
    "    \n",
    "#TroubleShoot\n",
    "if False:\n",
    "    SB = \"Accel\"\n",
    "    BrandFilterSD = GroupedSD[(GroupedSD['attribute_set']==SB)]\n",
    "    Year  = np.array(BrandFilterSD[\"OD_Year\"]).reshape((-1, 1))\n",
    "    Sales = np.array(BrandFilterSD[\"count\"])    \n",
    "    \n",
    "#Need to make exception that if little data, error produced or just the tabular data outputed\n",
    "    BrandData = FilterSD[(FilterSD['attribute_set']==SB)]\n",
    "                  \n",
    "                  \n",
    "    MarginData =(BrandData.groupby([\"attribute_set\",\"OD_Year\"], as_index=False)\n",
    "                 .agg({\"Net_Retail_Price_CAD_\":[\"sum\"], \n",
    "                       \"Total_Cost_CAD_\":[\"sum\"]\n",
    "                      }))\n",
    "    MarginData.columns = [\"\".join(x) for x in MarginData.columns.ravel()]\n",
    "    \n",
    "    MarginData = MarginData.assign(TotalMargin = lambda x: \n",
    "                 MarginData[\"Net_Retail_Price_CAD_sum\"] - MarginData[\"Total_Cost_CAD_sum\"])\n",
    "\n",
    "    MarginData = MarginData.assign(PercentMargin = lambda x: \n",
    "                 (MarginData[\"TotalMargin\"] / MarginData[\"Net_Retail_Price_CAD_sum\"])*100) \n",
    "    \n",
    "    plt.plot(BrandFilterSD[\"OD_Year\"],BrandFilterSD[\"count\"])\n",
    "    plt.plot(MarginData[\"OD_Year\"],MarginData[\"PercentMargin\"])\n",
    "    plt.show()\n",
    "\n",
    "    LinearModel = LinearRegression().fit(Year,Sales)\n",
    "    Slope = LinearModel.coef_\n",
    "    RSqr= LinearModel.score(Year,Sales)\n",
    "    \n",
    "    if Slope > 0: \n",
    "        SlopeDirection = \"Positive\"\n",
    "    else: \n",
    "        SlopeDirection = \"Negative\"\n",
    "    \n",
    "    print(\"The Slope of \"+ SB+ \" is \"+SlopeDirection)\n",
    "    \n",
    "    \n",
    "###Net_Retail_Price_CAD_\n",
    "###Total_Cost_CAD_\n",
    "    \n",
    "    #BrandPlotter(\"B&B Exhaust\")"
   ]
  },
  {
   "cell_type": "code",
   "execution_count": 15,
   "metadata": {
    "extensions": {
     "jupyter_dashboards": {
      "version": 1,
      "views": {
       "grid_default": {},
       "report_default": {}
      }
     }
    },
    "kernel": "SoS"
   },
   "outputs": [],
   "source": [
    "#Create Input Widgets\n",
    "SelectedBrand =  widgets.Dropdown(options=AllBrands,description='Brands:',disabled=False)\n"
   ]
  },
  {
   "cell_type": "code",
   "execution_count": 114,
   "metadata": {
    "extensions": {
     "jupyter_dashboards": {
      "version": 1,
      "views": {
       "grid_default": {},
       "report_default": {}
      }
     }
    },
    "kernel": "SoS"
   },
   "outputs": [],
   "source": [
    "%matplotlib inline\n",
    "#interact(BrandPlotter, SB = SelectedBrand)"
   ]
  }
 ],
 "metadata": {
  "extensions": {
   "jupyter_dashboards": {
    "activeView": "grid_default",
    "version": 1,
    "views": {
     "grid_default": {
      "cellMargin": 10,
      "defaultCellHeight": 20,
      "maxColumns": 12,
      "name": "grid",
      "type": "grid"
     },
     "report_default": {
      "name": "report",
      "type": "report"
     }
    }
   }
  },
  "kernelspec": {
   "display_name": "SoS",
   "language": "sos",
   "name": "sos"
  },
  "language_info": {
   "codemirror_mode": "sos",
   "file_extension": ".sos",
   "mimetype": "text/x-sos",
   "name": "sos",
   "nbconvert_exporter": "sos_notebook.converter.SoS_Exporter",
   "pygments_lexer": "sos"
  },
  "sos": {
   "kernels": [
    [
     "SoS",
     "sos",
     "",
     "",
     "sos"
    ]
   ],
   "panel": {
    "displayed": true,
    "height": 0
   },
   "version": "0.19.14"
  }
 },
 "nbformat": 4,
 "nbformat_minor": 2
}
