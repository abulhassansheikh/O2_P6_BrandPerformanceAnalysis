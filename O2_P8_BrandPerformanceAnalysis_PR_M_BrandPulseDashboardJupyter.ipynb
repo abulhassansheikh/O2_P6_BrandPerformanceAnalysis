{
 "cells": [
  {
   "cell_type": "code",
   "execution_count": 100,
   "metadata": {
    "ExecuteTime": {
     "end_time": "2019-07-29T21:45:40.821282Z",
     "start_time": "2019-07-29T21:45:40.632Z"
    },
    "code_folding": [],
    "kernel": "SoS"
   },
   "outputs": [
    {
     "data": {
      "text/html": [
       "<script>\n",
       "code_show=true; \n",
       "function code_toggle() {\n",
       " if (code_show){\n",
       " $('div.input').hide();\n",
       " } else {\n",
       " $('div.input').show();\n",
       " }\n",
       " code_show = !code_show\n",
       "} \n",
       "$( document ).ready(code_toggle);\n",
       "</script>\n",
       "<form action=\"javascript:code_toggle()\"><input type=\"submit\" value=\"Hide Code\"></form>"
      ],
      "text/plain": [
       "<IPython.core.display.HTML object>"
      ]
     },
     "execution_count": 100,
     "metadata": {},
     "output_type": "execute_result"
    }
   ],
   "source": [
    "from IPython.display import HTML\n",
    "\n",
    "HTML('''<script>\n",
    "code_show=true; \n",
    "function code_toggle() {\n",
    " if (code_show){\n",
    " $('div.input').hide();\n",
    " } else {\n",
    " $('div.input').show();\n",
    " }\n",
    " code_show = !code_show\n",
    "} \n",
    "$( document ).ready(code_toggle);\n",
    "</script>\n",
    "<form action=\"javascript:code_toggle()\"><input type=\"submit\" value=\"Hide Code\"></form>''')"
   ]
  },
  {
   "cell_type": "code",
   "execution_count": 101,
   "metadata": {
    "ExecuteTime": {
     "end_time": "2019-07-29T21:45:59.893032Z",
     "start_time": "2019-07-29T21:45:51.893Z"
    },
    "code_folding": [],
    "extensions": {
     "jupyter_dashboards": {
      "version": 1,
      "views": {
       "grid_default": {},
       "report_default": {}
      }
     }
    },
    "kernel": "SoS"
   },
   "outputs": [],
   "source": [
    "###Brand Pulse Dashboard\n",
    "#Import Necessary Packages\n",
    "from __future__ import print_function\n",
    "import pandas as pd\n",
    "import matplotlib.pyplot as plt\n",
    "from ipywidgets import HTML\n",
    "from ipywidgets import interact, interactive, fixed, interact_manual\n",
    "import ipywidgets as widgets\n",
    "import numpy as np\n",
    "from sklearn.linear_model import LinearRegression"
   ]
  },
  {
   "cell_type": "code",
   "execution_count": 102,
   "metadata": {
    "ExecuteTime": {
     "end_time": "2019-07-29T21:46:25.354464Z",
     "start_time": "2019-07-29T21:46:06.781Z"
    },
    "extensions": {
     "jupyter_dashboards": {
      "version": 1,
      "views": {
       "grid_default": {},
       "report_default": {}
      }
     }
    },
    "kernel": "SoS"
   },
   "outputs": [
    {
     "name": "stderr",
     "output_type": "stream",
     "text": [
      "Y:\\Abul\\Conda\\lib\\site-packages\\IPython\\core\\interactiveshell.py:3057: DtypeWarning: Columns (2,16,17,34,35,36,40,41,44,49,50,51,52,58) have mixed types. Specify dtype option on import or set low_memory=False.\n",
      "  interactivity=interactivity, compiler=compiler, result=result)\n"
     ]
    }
   ],
   "source": [
    "## Loading Data\n",
    "PastYearData =pd.read_csv(\"//192.168.2.32/Group/Data Team/Brand_Update_Location/11_Brand_Performance_Analysis/PastYearDataNew.csv\", encoding='utf-8')\t\n",
    "CurrentYearData =pd.read_csv(\"//192.168.2.32/Group/Data Team/Brand_Update_Location/11_Brand_Performance_Analysis/CurrentYearDataNew.csv\", encoding='utf-8')\t\n",
    "\n",
    "#Combine Past and recent years sales data\n",
    "SD = pd.concat([PastYearData, CurrentYearData], ignore_index=True)"
   ]
  },
  {
   "cell_type": "code",
   "execution_count": 104,
   "metadata": {
    "code_folding": [],
    "extensions": {
     "jupyter_dashboards": {
      "version": 1,
      "views": {
       "grid_default": {},
       "report_default": {}
      }
     }
    },
    "kernel": "SoS"
   },
   "outputs": [],
   "source": [
    "# Convert Order_Date string to date and extract relevant date values\n",
    "SD['Order_Date'] = pd.to_datetime(SD['Order_Date'], format= \"%d-%b-%y\")\n",
    "SD['OD_Year'] = SD['Order_Date'].dt.strftime('%Y')\n",
    "SD['OD_MonthNum'] = SD['Order_Date'].dt.strftime('%m')\n",
    "SD['OD_MonthLab'] = SD['Order_Date'].dt.strftime('%B')\n",
    "SD['OD_MonthDay'] = SD['Order_Date'].dt.strftime('%d')\n",
    "SD['OD_WeekDay'] = SD['Order_Date'].dt.strftime('%A')\n"
   ]
  },
  {
   "cell_type": "code",
   "execution_count": 105,
   "metadata": {
    "kernel": "SoS"
   },
   "outputs": [],
   "source": [
    "#Extract meta data from SD\n",
    "##Identify all unique brands\n",
    "AllBrands = SD.attribute_set.unique()\n",
    "AllSuppliers = SD.Supplier.unique()\n",
    "AllBucketValues = SD.Order_Bucket.unique()\n",
    "\n",
    "#list(SD.columns) "
   ]
  },
  {
   "cell_type": "code",
   "execution_count": 106,
   "metadata": {
    "extensions": {
     "jupyter_dashboards": {
      "version": 1,
      "views": {
       "grid_default": {},
       "report_default": {}
      }
     }
    },
    "kernel": "SoS"
   },
   "outputs": [],
   "source": [
    "# Filter out any blank orderdate values\n",
    "FilterSD =    SD[(SD['Order_Date']!=\"\")\n",
    "           #& (SD['Supplier']==\"\")\n",
    "           ]\n",
    "\n",
    "    #Setup Interactive Global Filter\n",
    "###Reconciliation_Status <-Set up check box filter\n",
    "###Cost_Recording_Status <-Set up check box filter\n",
    "###Order_Bucket>\"Complete Bucket\" <-Set up check box filter\n",
    "###Order_Bucket>\"Pending Bucket\" <-Set up check box filter"
   ]
  },
  {
   "cell_type": "code",
   "execution_count": 107,
   "metadata": {
    "extensions": {
     "jupyter_dashboards": {
      "version": 1,
      "views": {
       "grid_default": {},
       "report_default": {}
      }
     }
    },
    "kernel": "SoS"
   },
   "outputs": [],
   "source": [
    "#Group by Attribute set & year sold, then count number of sales\n",
    "GroupedSD = (FilterSD.groupby([\"attribute_set\",\"OD_Year\"], as_index=False)\n",
    "                ['Order_Date'].\n",
    "                agg({\"count\":\"count\"}).sort_values([\"attribute_set\",\"OD_Year\"] , ascending = True))\n"
   ]
  },
  {
   "cell_type": "code",
   "execution_count": 108,
   "metadata": {},
   "outputs": [],
   "source": [
    "#Compiled Output functions\n",
    "#Plot Brands sales per year \n",
    "def BrandPlotter(SB):\n",
    "    \n",
    "    \n",
    "#Setup Interactive Global Filter\n",
    "###Reconciliation_Status <-Set up check box filter\n",
    "###Cost_Recording_Status <-Set up check box filter\n",
    "###Order_Bucket>\"Complete Bucket\" <-Set up check box filter\n",
    "###Order_Bucket>\"Pending Bucket\" <-Set up check box filter\n",
    "\n",
    "    \n",
    "    BrandFilterSD = GroupedSD[(GroupedSD['attribute_set']==SB)]\n",
    "    Year  = np.array(BrandFilterSD[\"OD_Year\"]).reshape((-1, 1))\n",
    "    Sales = np.array(BrandFilterSD[\"count\"])    \n",
    "    \n",
    "#Need to make exception that if little data, error produced or just the tabular data outputed\n",
    "    BrandData = FilterSD[(FilterSD['attribute_set']==SB)]\n",
    "                  \n",
    "                  \n",
    "    MarginData =(BrandData.groupby([\"attribute_set\",\"OD_Year\"], as_index=False)\n",
    "                 .agg({\"Net_Retail_Price_CAD_\":[\"sum\"], \n",
    "                       \"Total_Cost_CAD_\":[\"sum\"]\n",
    "                      }))\n",
    "    MarginData.columns = [\"\".join(x) for x in MarginData.columns.ravel()]\n",
    "    \n",
    "    MarginData = MarginData.assign(TotalMargin = lambda x: \n",
    "                 MarginData[\"Net_Retail_Price_CAD_sum\"] - MarginData[\"Total_Cost_CAD_sum\"])\n",
    "\n",
    "    MarginData = MarginData.assign(PercentMargin = lambda x: \n",
    "                 (MarginData[\"TotalMargin\"] / MarginData[\"Net_Retail_Price_CAD_sum\"])*100) \n",
    "    \n",
    "    plt.plot(BrandFilterSD[\"OD_Year\"],BrandFilterSD[\"count\"])\n",
    "    plt.plot(MarginData[\"OD_Year\"],MarginData[\"PercentMargin\"])\n",
    "    plt.show()\n",
    "\n",
    "    LinearModel = LinearRegression().fit(Year,Sales)\n",
    "    Slope = LinearModel.coef_\n",
    "    RSqr= LinearModel.score(Year,Sales)\n",
    "    \n",
    "    if Slope > 0: \n",
    "        SlopeDirection = \"Positive\"\n",
    "    else: \n",
    "        SlopeDirection = \"Negative\"\n",
    "    \n",
    "    print(\"The Slope of \"+ SB+ \" is \"+SlopeDirection)\n",
    "    \n",
    "    \n",
    "    "
   ]
  },
  {
   "cell_type": "code",
   "execution_count": 109,
   "metadata": {
    "extensions": {
     "jupyter_dashboards": {
      "version": 1,
      "views": {
       "grid_default": {},
       "report_default": {}
      }
     }
    },
    "kernel": "SoS"
   },
   "outputs": [],
   "source": [
    "#Create Input Widgets\n",
    "SelectedBrand =  widgets.Dropdown(options=AllBrands,description='Brands:',disabled=False)\n"
   ]
  },
  {
   "cell_type": "code",
   "execution_count": 111,
   "metadata": {
    "extensions": {
     "jupyter_dashboards": {
      "version": 1,
      "views": {
       "grid_default": {},
       "report_default": {}
      }
     }
    },
    "kernel": "SoS"
   },
   "outputs": [
    {
     "data": {
      "application/vnd.jupyter.widget-view+json": {
       "model_id": "37fdafca80a745839145c117454602fe",
       "version_major": 2,
       "version_minor": 0
      },
      "text/plain": [
       "interactive(children=(Dropdown(description='Brands:', options=('Volant', 'Airaid', 'K&N', 'MBRP', 'AEM', 'Bull…"
      ]
     },
     "metadata": {},
     "output_type": "display_data"
    },
    {
     "data": {
      "text/plain": [
       "<function __main__.BrandPlotter(SB)>"
      ]
     },
     "execution_count": 111,
     "metadata": {},
     "output_type": "execute_result"
    }
   ],
   "source": [
    "# %matplotlib inline\n",
    "%matplotlib widget\n",
    "interact(BrandPlotter, SB = SelectedBrand)"
   ]
  },
  {
   "cell_type": "markdown",
   "metadata": {},
   "source": [
    "## DEVELOPMENT"
   ]
  },
  {
   "cell_type": "code",
   "execution_count": 99,
   "metadata": {},
   "outputs": [
    {
     "ename": "SyntaxError",
     "evalue": "invalid syntax (<ipython-input-99-fdaa6b3f2154>, line 20)",
     "output_type": "error",
     "traceback": [
      "\u001b[1;36m  File \u001b[1;32m\"<ipython-input-99-fdaa6b3f2154>\"\u001b[1;36m, line \u001b[1;32m20\u001b[0m\n\u001b[1;33m    NRetailPriceSum = AggE(\"Net_Retail_Price_CAD_\",\"sum\",\"Total_Retail_Price\")o\u001b[0m\n\u001b[1;37m                                                                              ^\u001b[0m\n\u001b[1;31mSyntaxError\u001b[0m\u001b[1;31m:\u001b[0m invalid syntax\n"
     ]
    }
   ],
   "source": [
    "#Group by Attribute set & year sold, then count number of sales\n",
    "GroupedSD = (FilterSD.groupby([\"attribute_set\",\"OD_Year\"], as_index=False)\n",
    "                ['Order_Date'].\n",
    "                agg({\"count\":\"count\"}).sort_values([\"attribute_set\",\"OD_Year\"] , ascending = True))\n",
    "\n",
    "\n",
    "\n",
    "#Create the aggregateElement Class\n",
    "class AggE:\n",
    "  def __init__(self, ColName, fun, NewColName):\n",
    "    self.ColName = str(ColName)\n",
    "    self.fun = str(fun)\n",
    "    self.NewColName = str(NewColName)\n",
    "  def agger(self):\n",
    "    return (\"'\" +self.ColName+ \"':['\"+ self.fun + \"']\" )\n",
    "\n",
    "\n",
    "\n",
    "OrderDateCount = AggE(\"Order_Date\",\"count\",\"TotalSales\")\n",
    "NRetailPriceSum = AggE(\"Net_Retail_Price_CAD_\",\"sum\",\"Total_Retail_Price\")o\n",
    "\n",
    "NRetailPriceSum.agger()\n",
    "\n",
    "\n",
    "\n",
    "\n",
    "aggregate = [OrderDateCount, NRetailPriceSum]\n",
    "\n",
    "for g in aggregate:\n",
    "    ColName = g.ColName\n",
    "    fun = g.fun\n",
    "    NewColName = g.NewColName\n",
    "    \n",
    "Order = (\"'\" +ColName+ \"':['\"+ fun + \"']\" )\n",
    "\n",
    "Order = (ColName fun:[] + \"']\" )\n",
    "\n",
    "\n",
    "\n",
    "def DataGrouper(df, group, aggregate):\n",
    "    Output = (df\n",
    "    .groupby(group, as_index=False)\n",
    "    .agg(aggregate))\n",
    "    \n",
    "    Output.columns = [\"_\".join(x) for x in Output.columns.ravel()]\n",
    "    \n",
    "    return Output\n",
    "\n",
    "DataGrouper(df = GlobalFilter, group = [\"OD_Year\"], aggregate = {Order)\n",
    "\n",
    "\n",
    "{\"A\":\"B\":\"C\"}"
   ]
  },
  {
   "cell_type": "code",
   "execution_count": 53,
   "metadata": {
    "extensions": {
     "jupyter_dashboards": {
      "version": 1,
      "views": {
       "grid_default": {},
       "report_default": {}
      }
     }
    },
    "kernel": "SoS"
   },
   "outputs": [
    {
     "ename": "SyntaxError",
     "evalue": "invalid syntax (<ipython-input-53-cf77f4cf0855>, line 33)",
     "output_type": "error",
     "traceback": [
      "\u001b[1;36m  File \u001b[1;32m\"<ipython-input-53-cf77f4cf0855>\"\u001b[1;36m, line \u001b[1;32m33\u001b[0m\n\u001b[1;33m    BrandFilterSD = GroupedSD[(GroupedSD['attribute_set']==SB)]\u001b[0m\n\u001b[1;37m                ^\u001b[0m\n\u001b[1;31mSyntaxError\u001b[0m\u001b[1;31m:\u001b[0m invalid syntax\n"
     ]
    }
   ],
   "source": [
    "#Compiled Output functions\n",
    "#Plot Brands sales per year \n",
    "def BrandPlotter(SB):\n",
    "    \n",
    "    #Global Function Filter\n",
    "    GlobalFilter =    SD[(SD['Order_Date']!=\"\")\n",
    "                   & (SD['attribute_set']==SB)\n",
    "                   ]\n",
    "    \n",
    "    #Filtered Data Meta Data\n",
    "    RecentSale = GlobalFilter.Order_Date.max()\n",
    "    OldestSale = GlobalFilter.Order_Date.min()\n",
    "\n",
    "#Setup Interactive Global Filter\n",
    "###Reconciliation_Status <-Set up check box filter\n",
    "###Cost_Recording_Status <-Set up check box filter\n",
    "###Order_Bucket>\"Complete Bucket\" <-Set up check box filter\n",
    "###Order_Bucket>\"Pending Bucket\" <-Set up check box filter\n",
    "\n",
    "    #Data grouping\n",
    "    ##Group by Attribute set & year sold, then count number of sales\n",
    "    GroupedSD = (GlobalFilter\n",
    "                 .groupby([\"OD_Year\"], as_index=False)\n",
    "                ['Order_Date'].\n",
    "                agg({\"count\":\"count\"}).sort_values([\"OD_Year\"] , ascending = True))\n",
    "    \n",
    "    MarginData = (GlobalFilter\n",
    "                 .groupby([\"attribute_set\",\"OD_Year\"], as_index=False)\n",
    "                 .agg({\"Net_Retail_Price_CAD_\":[\"sum\"], \n",
    "                       \"Total_Cost_CAD_\":[\"sum\"]\n",
    "\n",
    "    \n",
    "    BrandFilterSD = GroupedSD[(GroupedSD['attribute_set']==SB)]\n",
    "    Year = np.array(BrandFilterSD[\"OD_Year\"]).reshape((-1, 1))\n",
    "    Sales = np.array(BrandFilterSD[\"count\"])    \n",
    "                      }))\n",
    "    \n",
    "    MarginData.columns = [\"\".join(x) for x in MarginData.columns.ravel()]\n",
    "    \n",
    "    MarginData = MarginData.assign(TotalMargin = lambda x: \n",
    "                 MarginData[\"Net_Retail_Price_CAD_sum\"] - MarginData[\"Total_Cost_CAD_sum\"])\n",
    "\n",
    "    MarginData = MarginData.assign(PercentMargin = lambda x: \n",
    "                 (MarginData[\"TotalMargin\"] / MarginData[\"Net_Retail_Price_CAD_sum\"])*100)\n",
    "                                                          \n",
    "    fig = plt.figure()\n",
    "    fig.subplots_adjust(hspace=1, wspace=0.4) #Plot Spacer\n",
    "    ax1 = fig.add_axes([0.1, 0.5, 1, 1.5],\n",
    "                   xticklabels=[], ylim=(Sales.min(), Sales.max()))\n",
    "    ax2 = fig.add_axes([0.1, 0.1, 1, .6],\n",
    "                   ylim=(MarginData[\"PercentMargin\"].min(), MarginData[\"PercentMargin\"].max()))\n",
    "\n",
    "    ax1.plot(BrandFilterSD[\"OD_Year\"],BrandFilterSD[\"count\"])\n",
    "    ax2.plot(MarginData[\"OD_Year\"],MarginData[\"PercentMargin\"])\n",
    "    plt.show()\n",
    "\n",
    "    LinearModel = LinearRegression().fit(Year,Sales)\n",
    "    Slope = LinearModel.coef_\n",
    "    RSqr= LinearModel.score(Year,Sales)\n",
    "    \n",
    "    if Slope > 0: \n",
    "        SlopeDirection = \"Positive\"\n",
    "    else: \n",
    "        SlopeDirection = \"Negative\"\n",
    "    \n",
    "    print(\"The Slope of \" + SB + \" is \" + SlopeDirection)\n",
    "\n",
    "    \n",
    "#TroubleShoot\n",
    "if False:\n",
    "    SB = \"Accel\"\n",
    "    BrandFilterSD = GroupedSD[(GroupedSD['attribute_set']==SB)]\n",
    "    Year  = np.array(BrandFilterSD[\"OD_Year\"]).reshape((-1, 1))\n",
    "    Sales = np.array(BrandFilterSD[\"count\"])    \n",
    "    \n",
    "#Need to make exception that if little data, error produced or just the tabular data outputed\n",
    "    BrandData = FilterSD[(FilterSD['attribute_set']==SB)]\n",
    "                  \n",
    "                  \n",
    "    MarginData =(BrandData.groupby([\"attribute_set\",\"OD_Year\"], as_index=False)\n",
    "                 .agg({\"Net_Retail_Price_CAD_\":[\"sum\"], \n",
    "                       \"Total_Cost_CAD_\":[\"sum\"]\n",
    "                      }))\n",
    "    MarginData.columns = [\"\".join(x) for x in MarginData.columns.ravel()]\n",
    "    \n",
    "    MarginData = MarginData.assign(TotalMargin = lambda x: \n",
    "                 MarginData[\"Net_Retail_Price_CAD_sum\"] - MarginData[\"Total_Cost_CAD_sum\"])\n",
    "\n",
    "    MarginData = MarginData.assign(PercentMargin = lambda x: \n",
    "                 (MarginData[\"TotalMargin\"] / MarginData[\"Net_Retail_Price_CAD_sum\"])*100) \n",
    "    \n",
    "    plt.plot(BrandFilterSD[\"OD_Year\"],BrandFilterSD[\"count\"])\n",
    "    plt.plot(MarginData[\"OD_Year\"],MarginData[\"PercentMargin\"])\n",
    "    plt.show()\n",
    "\n",
    "    LinearModel = LinearRegression().fit(Year,Sales)\n",
    "    Slope = LinearModel.coef_\n",
    "    RSqr= LinearModel.score(Year,Sales)\n",
    "    \n",
    "    if Slope > 0: \n",
    "        SlopeDirection = \"Positive\"\n",
    "    else: \n",
    "        SlopeDirection = \"Negative\"\n",
    "    \n",
    "    print(\"The Slope of \"+ SB+ \" is \"+SlopeDirection)\n",
    "    \n",
    "    \n",
    "###Net_Retail_Price_CAD_\n",
    "###Total_Cost_CAD_\n",
    "    \n",
    "    #BrandPlotter(\"Accel\")"
   ]
  },
  {
   "cell_type": "markdown",
   "metadata": {},
   "source": [
    "## TROUBLESHOOTING"
   ]
  },
  {
   "cell_type": "code",
   "execution_count": 98,
   "metadata": {},
   "outputs": [
    {
     "data": {
      "text/plain": [
       "17.5"
      ]
     },
     "execution_count": 98,
     "metadata": {},
     "output_type": "execute_result"
    }
   ],
   "source": [
    "((((2.5*365)/24)/30)*(80-29))/12\n",
    "2.5*7"
   ]
  },
  {
   "cell_type": "code",
   "execution_count": 97,
   "metadata": {},
   "outputs": [
    {
     "data": {
      "text/plain": [
       "480"
      ]
     },
     "execution_count": 97,
     "metadata": {},
     "output_type": "execute_result"
    }
   ],
   "source": [
    "20*6*4"
   ]
  },
  {
   "cell_type": "code",
   "execution_count": 95,
   "metadata": {},
   "outputs": [
    {
     "data": {
      "text/plain": [
       "55845"
      ]
     },
     "execution_count": 95,
     "metadata": {},
     "output_type": "execute_result"
    }
   ],
   "source": [
    "3*365*(80-29)"
   ]
  },
  {
   "cell_type": "code",
   "execution_count": 96,
   "metadata": {},
   "outputs": [
    {
     "data": {
      "application/vnd.jupyter.widget-view+json": {
       "model_id": "6f0df81f8db648b9bf9df1b233e45dfc",
       "version_major": 2,
       "version_minor": 0
      },
      "text/plain": [
       "interactive(children=(IntSlider(value=10, description='x', max=30, min=-10), Output()), _dom_classes=('widget-…"
      ]
     },
     "metadata": {},
     "output_type": "display_data"
    }
   ],
   "source": [
    "def f(x):\n",
    "    return x\n",
    "\n",
    "interact(f, x=10);\n"
   ]
  },
  {
   "cell_type": "code",
   "execution_count": null,
   "metadata": {},
   "outputs": [],
   "source": []
  }
 ],
 "metadata": {
  "extensions": {
   "jupyter_dashboards": {
    "activeView": "grid_default",
    "version": 1,
    "views": {
     "grid_default": {
      "cellMargin": 10,
      "defaultCellHeight": 20,
      "maxColumns": 12,
      "name": "grid",
      "type": "grid"
     },
     "report_default": {
      "name": "report",
      "type": "report"
     }
    }
   }
  },
  "hide_input": false,
  "kernelspec": {
   "display_name": "Python 3",
   "language": "python",
   "name": "python3"
  },
  "language_info": {
   "codemirror_mode": {
    "name": "ipython",
    "version": 3
   },
   "file_extension": ".py",
   "mimetype": "text/x-python",
   "name": "python",
   "nbconvert_exporter": "python",
   "pygments_lexer": "ipython3",
   "version": "3.7.3"
  },
  "sos": {
   "kernels": [
    [
     "SoS",
     "sos",
     "",
     "",
     "sos"
    ]
   ],
   "panel": {
    "displayed": true,
    "height": 0
   },
   "version": "0.19.14"
  }
 },
 "nbformat": 4,
 "nbformat_minor": 4
}
